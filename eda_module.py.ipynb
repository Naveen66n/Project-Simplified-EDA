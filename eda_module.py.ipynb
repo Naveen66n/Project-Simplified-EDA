{
 "cells": [
  {
   "cell_type": "code",
   "execution_count": 1,
   "id": "4df96eef",
   "metadata": {},
   "outputs": [],
   "source": [
    "import pandas as pd\n",
    "import matplotlib.pyplot as plt\n",
    "import seaborn as sns\n",
    "import numpy as np\n",
    "\n",
    "def summarize_data(df):\n",
    "    \"\"\"Returns basic statistics and info about the dataset.\"\"\"\n",
    "    return {\n",
    "        'shape': df.shape,\n",
    "        'columns': list(df.columns),\n",
    "        'missing_values': df.isnull().sum(),\n",
    "        'summary': df.describe()\n",
    "    }\n",
    "\n",
    "def plot_correlation_heatmap(df):\n",
    "    \"\"\"Plots a correlation heatmap.\"\"\"\n",
    "    plt.figure(figsize=(10, 6))\n",
    "    sns.heatmap(df.corr(), annot=True, cmap=\"coolwarm\")\n",
    "    plt.title(\"Correlation Heatmap\")\n",
    "    return plt\n",
    "\n",
    "def detect_outliers(df, col):\n",
    "    \"\"\"Detects outliers using IQR.\"\"\"\n",
    "    Q1 = df[col].quantile(0.25)\n",
    "    Q3 = df[col].quantile(0.75)\n",
    "    IQR = Q3 - Q1\n",
    "    outliers = df[(df[col] < Q1 - 1.5 * IQR) | (df[col] > Q3 + 1.5 * IQR)]\n",
    "    return outliers\n",
    "\n",
    "def visualize_distribution(df, col):\n",
    "    \"\"\"Plots a distribution plot for a column.\"\"\"\n",
    "    sns.histplot(df[col], kde=True, bins=30)\n",
    "    plt.title(f\"Distribution of {col}\")\n",
    "    plt.xlabel(col)\n",
    "    plt.ylabel(\"Frequency\")\n",
    "    return plt\n"
   ]
  },
  {
   "cell_type": "code",
   "execution_count": null,
   "id": "fcfc2fc2",
   "metadata": {},
   "outputs": [],
   "source": []
  }
 ],
 "metadata": {
  "kernelspec": {
   "display_name": "Python 3 (ipykernel)",
   "language": "python",
   "name": "python3"
  },
  "language_info": {
   "codemirror_mode": {
    "name": "ipython",
    "version": 3
   },
   "file_extension": ".py",
   "mimetype": "text/x-python",
   "name": "python",
   "nbconvert_exporter": "python",
   "pygments_lexer": "ipython3",
   "version": "3.10.9"
  }
 },
 "nbformat": 4,
 "nbformat_minor": 5
}
